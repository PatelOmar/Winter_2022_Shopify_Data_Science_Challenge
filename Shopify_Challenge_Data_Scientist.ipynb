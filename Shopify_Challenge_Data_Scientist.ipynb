{
 "cells": [
  {
   "cell_type": "markdown",
   "id": "924bc5fe",
   "metadata": {},
   "source": [
    "# Analysis of the Data Set"
   ]
  },
  {
   "cell_type": "code",
   "execution_count": null,
   "id": "5b88db83",
   "metadata": {},
   "outputs": [],
   "source": [
    "import pandas as pd\n",
    "import numpy as np\n",
    "import matplotlib.pyplot as pp"
   ]
  },
  {
   "cell_type": "code",
   "execution_count": 219,
   "id": "b4eeef3c",
   "metadata": {},
   "outputs": [
    {
     "name": "stdout",
     "output_type": "stream",
     "text": [
      "   order_id  shop_id  user_id  order_amount  total_items payment_method  \\\n",
      "0         1       53      746           224            2           cash   \n",
      "1         2       92      925            90            1           cash   \n",
      "2         3       44      861           144            1           cash   \n",
      "3         4       18      935           156            1    credit_card   \n",
      "4         5       18      883           156            1    credit_card   \n",
      "\n",
      "            created_at  \n",
      "0  2017-03-13 12:36:56  \n",
      "1  2017-03-03 17:38:52  \n",
      "2   2017-03-14 4:23:56  \n",
      "3  2017-03-26 12:43:37  \n",
      "4   2017-03-01 4:35:11  \n"
     ]
    }
   ],
   "source": [
    "data_frame = pd.read_csv('2019 Winter Data Science Intern Challenge Data Set - Sheet1.csv')\n",
    "# print(data_frame.to_string())\n",
    "print(data_frame.head())"
   ]
  },
  {
   "cell_type": "markdown",
   "id": "ce410612",
   "metadata": {},
   "source": [
    "By quickly skimming through the above output we notice that there are significantly large order amounts for multiple orders which would influence the AOV. The metric of average order value may not be the right metric to represent this data set. Lets look into it further!"
   ]
  },
  {
   "cell_type": "code",
   "execution_count": 160,
   "id": "bfcd696b",
   "metadata": {},
   "outputs": [
    {
     "name": "stdout",
     "output_type": "stream",
     "text": [
      "<class 'pandas.core.frame.DataFrame'>\n",
      "RangeIndex: 5000 entries, 0 to 4999\n",
      "Data columns (total 7 columns):\n",
      " #   Column          Non-Null Count  Dtype \n",
      "---  ------          --------------  ----- \n",
      " 0   order_id        5000 non-null   int64 \n",
      " 1   shop_id         5000 non-null   int64 \n",
      " 2   user_id         5000 non-null   int64 \n",
      " 3   order_amount    5000 non-null   int64 \n",
      " 4   total_items     5000 non-null   int64 \n",
      " 5   payment_method  5000 non-null   object\n",
      " 6   created_at      5000 non-null   object\n",
      "dtypes: int64(5), object(2)\n",
      "memory usage: 273.6+ KB\n"
     ]
    }
   ],
   "source": [
    "data_frame.info()"
   ]
  },
  {
   "cell_type": "code",
   "execution_count": 161,
   "id": "ba9b8901",
   "metadata": {},
   "outputs": [
    {
     "data": {
      "text/plain": [
       "2       1832\n",
       "1       1830\n",
       "3        941\n",
       "4        293\n",
       "5         77\n",
       "2000      17\n",
       "6          9\n",
       "8          1\n",
       "Name: total_items, dtype: int64"
      ]
     },
     "execution_count": 161,
     "metadata": {},
     "output_type": "execute_result"
    }
   ],
   "source": [
    "data_frame[\"total_items\"].value_counts()"
   ]
  },
  {
   "cell_type": "markdown",
   "id": "26521b64",
   "metadata": {},
   "source": [
    "We have orders with total items ranging from 1-8 and 2000, it is evident orders with 2000 total items would have large order amounts and most likely are influencing the average order value. This is because the AOV is the summation of the order amounts divided by the amount of orders (5000 orders are in the dataset), so large order amounts with relatively small number of order will cause the AOV to definitely represent the dataset poorly. We should look into the order with 2000 total items further, but none the less lets go through all the total item categories. "
   ]
  },
  {
   "cell_type": "markdown",
   "id": "89441656",
   "metadata": {},
   "source": [
    "Lets start by looking at the max order amounts of orders with 1 total items."
   ]
  },
  {
   "cell_type": "code",
   "execution_count": 162,
   "id": "92b8da26",
   "metadata": {},
   "outputs": [],
   "source": [
    "max_order_amount_with_1_total_items = data_frame[data_frame['total_items'] == 1].max()"
   ]
  },
  {
   "cell_type": "code",
   "execution_count": 163,
   "id": "5bc70eb8",
   "metadata": {},
   "outputs": [
    {
     "data": {
      "text/html": [
       "<div>\n",
       "<style scoped>\n",
       "    .dataframe tbody tr th:only-of-type {\n",
       "        vertical-align: middle;\n",
       "    }\n",
       "\n",
       "    .dataframe tbody tr th {\n",
       "        vertical-align: top;\n",
       "    }\n",
       "\n",
       "    .dataframe thead th {\n",
       "        text-align: right;\n",
       "    }\n",
       "</style>\n",
       "<table border=\"1\" class=\"dataframe\">\n",
       "  <thead>\n",
       "    <tr style=\"text-align: right;\">\n",
       "      <th></th>\n",
       "      <th>order_id</th>\n",
       "      <th>shop_id</th>\n",
       "      <th>user_id</th>\n",
       "      <th>order_amount</th>\n",
       "      <th>total_items</th>\n",
       "      <th>payment_method</th>\n",
       "      <th>created_at</th>\n",
       "    </tr>\n",
       "  </thead>\n",
       "  <tbody>\n",
       "    <tr>\n",
       "      <th>160</th>\n",
       "      <td>161</td>\n",
       "      <td>78</td>\n",
       "      <td>990</td>\n",
       "      <td>25725</td>\n",
       "      <td>1</td>\n",
       "      <td>credit_card</td>\n",
       "      <td>2017-03-12 5:56:57</td>\n",
       "    </tr>\n",
       "    <tr>\n",
       "      <th>1056</th>\n",
       "      <td>1057</td>\n",
       "      <td>78</td>\n",
       "      <td>800</td>\n",
       "      <td>25725</td>\n",
       "      <td>1</td>\n",
       "      <td>debit</td>\n",
       "      <td>2017-03-15 10:16:45</td>\n",
       "    </tr>\n",
       "    <tr>\n",
       "      <th>1193</th>\n",
       "      <td>1194</td>\n",
       "      <td>78</td>\n",
       "      <td>944</td>\n",
       "      <td>25725</td>\n",
       "      <td>1</td>\n",
       "      <td>debit</td>\n",
       "      <td>2017-03-16 16:38:26</td>\n",
       "    </tr>\n",
       "    <tr>\n",
       "      <th>1204</th>\n",
       "      <td>1205</td>\n",
       "      <td>78</td>\n",
       "      <td>970</td>\n",
       "      <td>25725</td>\n",
       "      <td>1</td>\n",
       "      <td>credit_card</td>\n",
       "      <td>2017-03-17 22:32:21</td>\n",
       "    </tr>\n",
       "    <tr>\n",
       "      <th>1384</th>\n",
       "      <td>1385</td>\n",
       "      <td>78</td>\n",
       "      <td>867</td>\n",
       "      <td>25725</td>\n",
       "      <td>1</td>\n",
       "      <td>cash</td>\n",
       "      <td>2017-03-17 16:38:06</td>\n",
       "    </tr>\n",
       "    <tr>\n",
       "      <th>1419</th>\n",
       "      <td>1420</td>\n",
       "      <td>78</td>\n",
       "      <td>912</td>\n",
       "      <td>25725</td>\n",
       "      <td>1</td>\n",
       "      <td>cash</td>\n",
       "      <td>2017-03-30 12:23:43</td>\n",
       "    </tr>\n",
       "    <tr>\n",
       "      <th>1452</th>\n",
       "      <td>1453</td>\n",
       "      <td>78</td>\n",
       "      <td>812</td>\n",
       "      <td>25725</td>\n",
       "      <td>1</td>\n",
       "      <td>credit_card</td>\n",
       "      <td>2017-03-17 18:09:54</td>\n",
       "    </tr>\n",
       "    <tr>\n",
       "      <th>2270</th>\n",
       "      <td>2271</td>\n",
       "      <td>78</td>\n",
       "      <td>855</td>\n",
       "      <td>25725</td>\n",
       "      <td>1</td>\n",
       "      <td>credit_card</td>\n",
       "      <td>2017-03-14 23:58:22</td>\n",
       "    </tr>\n",
       "    <tr>\n",
       "      <th>2548</th>\n",
       "      <td>2549</td>\n",
       "      <td>78</td>\n",
       "      <td>861</td>\n",
       "      <td>25725</td>\n",
       "      <td>1</td>\n",
       "      <td>cash</td>\n",
       "      <td>2017-03-17 19:36:00</td>\n",
       "    </tr>\n",
       "    <tr>\n",
       "      <th>2773</th>\n",
       "      <td>2774</td>\n",
       "      <td>78</td>\n",
       "      <td>890</td>\n",
       "      <td>25725</td>\n",
       "      <td>1</td>\n",
       "      <td>cash</td>\n",
       "      <td>2017-03-26 10:36:43</td>\n",
       "    </tr>\n",
       "    <tr>\n",
       "      <th>2922</th>\n",
       "      <td>2923</td>\n",
       "      <td>78</td>\n",
       "      <td>740</td>\n",
       "      <td>25725</td>\n",
       "      <td>1</td>\n",
       "      <td>debit</td>\n",
       "      <td>2017-03-12 20:10:58</td>\n",
       "    </tr>\n",
       "    <tr>\n",
       "      <th>3085</th>\n",
       "      <td>3086</td>\n",
       "      <td>78</td>\n",
       "      <td>910</td>\n",
       "      <td>25725</td>\n",
       "      <td>1</td>\n",
       "      <td>cash</td>\n",
       "      <td>2017-03-26 1:59:27</td>\n",
       "    </tr>\n",
       "    <tr>\n",
       "      <th>3151</th>\n",
       "      <td>3152</td>\n",
       "      <td>78</td>\n",
       "      <td>745</td>\n",
       "      <td>25725</td>\n",
       "      <td>1</td>\n",
       "      <td>credit_card</td>\n",
       "      <td>2017-03-18 13:13:07</td>\n",
       "    </tr>\n",
       "    <tr>\n",
       "      <th>3440</th>\n",
       "      <td>3441</td>\n",
       "      <td>78</td>\n",
       "      <td>982</td>\n",
       "      <td>25725</td>\n",
       "      <td>1</td>\n",
       "      <td>debit</td>\n",
       "      <td>2017-03-19 19:02:54</td>\n",
       "    </tr>\n",
       "    <tr>\n",
       "      <th>3780</th>\n",
       "      <td>3781</td>\n",
       "      <td>78</td>\n",
       "      <td>889</td>\n",
       "      <td>25725</td>\n",
       "      <td>1</td>\n",
       "      <td>cash</td>\n",
       "      <td>2017-03-11 21:14:50</td>\n",
       "    </tr>\n",
       "    <tr>\n",
       "      <th>4040</th>\n",
       "      <td>4041</td>\n",
       "      <td>78</td>\n",
       "      <td>852</td>\n",
       "      <td>25725</td>\n",
       "      <td>1</td>\n",
       "      <td>cash</td>\n",
       "      <td>2017-03-02 14:31:12</td>\n",
       "    </tr>\n",
       "    <tr>\n",
       "      <th>4505</th>\n",
       "      <td>4506</td>\n",
       "      <td>78</td>\n",
       "      <td>866</td>\n",
       "      <td>25725</td>\n",
       "      <td>1</td>\n",
       "      <td>debit</td>\n",
       "      <td>2017-03-22 22:06:01</td>\n",
       "    </tr>\n",
       "    <tr>\n",
       "      <th>4584</th>\n",
       "      <td>4585</td>\n",
       "      <td>78</td>\n",
       "      <td>997</td>\n",
       "      <td>25725</td>\n",
       "      <td>1</td>\n",
       "      <td>cash</td>\n",
       "      <td>2017-03-25 21:48:44</td>\n",
       "    </tr>\n",
       "    <tr>\n",
       "      <th>4918</th>\n",
       "      <td>4919</td>\n",
       "      <td>78</td>\n",
       "      <td>823</td>\n",
       "      <td>25725</td>\n",
       "      <td>1</td>\n",
       "      <td>cash</td>\n",
       "      <td>2017-03-15 13:26:46</td>\n",
       "    </tr>\n",
       "  </tbody>\n",
       "</table>\n",
       "</div>"
      ],
      "text/plain": [
       "      order_id  shop_id  user_id  order_amount  total_items payment_method  \\\n",
       "160        161       78      990         25725            1    credit_card   \n",
       "1056      1057       78      800         25725            1          debit   \n",
       "1193      1194       78      944         25725            1          debit   \n",
       "1204      1205       78      970         25725            1    credit_card   \n",
       "1384      1385       78      867         25725            1           cash   \n",
       "1419      1420       78      912         25725            1           cash   \n",
       "1452      1453       78      812         25725            1    credit_card   \n",
       "2270      2271       78      855         25725            1    credit_card   \n",
       "2548      2549       78      861         25725            1           cash   \n",
       "2773      2774       78      890         25725            1           cash   \n",
       "2922      2923       78      740         25725            1          debit   \n",
       "3085      3086       78      910         25725            1           cash   \n",
       "3151      3152       78      745         25725            1    credit_card   \n",
       "3440      3441       78      982         25725            1          debit   \n",
       "3780      3781       78      889         25725            1           cash   \n",
       "4040      4041       78      852         25725            1           cash   \n",
       "4505      4506       78      866         25725            1          debit   \n",
       "4584      4585       78      997         25725            1           cash   \n",
       "4918      4919       78      823         25725            1           cash   \n",
       "\n",
       "               created_at  \n",
       "160    2017-03-12 5:56:57  \n",
       "1056  2017-03-15 10:16:45  \n",
       "1193  2017-03-16 16:38:26  \n",
       "1204  2017-03-17 22:32:21  \n",
       "1384  2017-03-17 16:38:06  \n",
       "1419  2017-03-30 12:23:43  \n",
       "1452  2017-03-17 18:09:54  \n",
       "2270  2017-03-14 23:58:22  \n",
       "2548  2017-03-17 19:36:00  \n",
       "2773  2017-03-26 10:36:43  \n",
       "2922  2017-03-12 20:10:58  \n",
       "3085   2017-03-26 1:59:27  \n",
       "3151  2017-03-18 13:13:07  \n",
       "3440  2017-03-19 19:02:54  \n",
       "3780  2017-03-11 21:14:50  \n",
       "4040  2017-03-02 14:31:12  \n",
       "4505  2017-03-22 22:06:01  \n",
       "4584  2017-03-25 21:48:44  \n",
       "4918  2017-03-15 13:26:46  "
      ]
     },
     "execution_count": 163,
     "metadata": {},
     "output_type": "execute_result"
    }
   ],
   "source": [
    "data_frame[ data_frame[\"order_amount\"] == max_order_amount_with_1_total_items[\"order_amount\"]]"
   ]
  },
  {
   "cell_type": "markdown",
   "id": "386344b4",
   "metadata": {},
   "source": [
    "Above are the all the max order amounts of order with 1 total items, and it is significant as the price of one shoe is \\\\$25725, which generally is not the average person is willing to spend."
   ]
  },
  {
   "cell_type": "code",
   "execution_count": 164,
   "id": "8762499e",
   "metadata": {},
   "outputs": [
    {
     "data": {
      "text/plain": [
       "<AxesSubplot:xlabel='order_id', ylabel='order_amount'>"
      ]
     },
     "execution_count": 164,
     "metadata": {},
     "output_type": "execute_result"
    },
    {
     "data": {
      "image/png": "[encoded data removed]",
      "text/plain": [
       "<Figure size 432x288 with 1 Axes>"
      ]
     },
     "metadata": {
      "needs_background": "light"
     },
     "output_type": "display_data"
    }
   ],
   "source": [
    "data_frame[data_frame['total_items'] == 1].plot.scatter(x=\"order_id\", y=\"order_amount\")"
   ]
  },
  {
   "cell_type": "markdown",
   "id": "6dda9949",
   "metadata": {},
   "source": [
    "From the scatter plot above, which looks at all the orders with 1 total items it is clear the 19 orders with \\\\$25725 order amount are outliers, as majority of the data points lie at the bottom, which would influence the AOV. "
   ]
  },
  {
   "cell_type": "markdown",
   "id": "7fd94388",
   "metadata": {},
   "source": [
    "Next lets look at the max order amounts of orders with 2 total items."
   ]
  },
  {
   "cell_type": "code",
   "execution_count": 165,
   "id": "f3d845ff",
   "metadata": {},
   "outputs": [],
   "source": [
    "max_order_amount_with_2_total_items = data_frame[data_frame['total_items'] == 2].max()"
   ]
  },
  {
   "cell_type": "code",
   "execution_count": 166,
   "id": "d68f9f76",
   "metadata": {},
   "outputs": [
    {
     "data": {
      "text/html": [
       "<div>\n",
       "<style scoped>\n",
       "    .dataframe tbody tr th:only-of-type {\n",
       "        vertical-align: middle;\n",
       "    }\n",
       "\n",
       "    .dataframe tbody tr th {\n",
       "        vertical-align: top;\n",
       "    }\n",
       "\n",
       "    .dataframe thead th {\n",
       "        text-align: right;\n",
       "    }\n",
       "</style>\n",
       "<table border=\"1\" class=\"dataframe\">\n",
       "  <thead>\n",
       "    <tr style=\"text-align: right;\">\n",
       "      <th></th>\n",
       "      <th>order_id</th>\n",
       "      <th>shop_id</th>\n",
       "      <th>user_id</th>\n",
       "      <th>order_amount</th>\n",
       "      <th>total_items</th>\n",
       "      <th>payment_method</th>\n",
       "      <th>created_at</th>\n",
       "    </tr>\n",
       "  </thead>\n",
       "  <tbody>\n",
       "    <tr>\n",
       "      <th>490</th>\n",
       "      <td>491</td>\n",
       "      <td>78</td>\n",
       "      <td>936</td>\n",
       "      <td>51450</td>\n",
       "      <td>2</td>\n",
       "      <td>debit</td>\n",
       "      <td>2017-03-26 17:08:19</td>\n",
       "    </tr>\n",
       "    <tr>\n",
       "      <th>493</th>\n",
       "      <td>494</td>\n",
       "      <td>78</td>\n",
       "      <td>983</td>\n",
       "      <td>51450</td>\n",
       "      <td>2</td>\n",
       "      <td>cash</td>\n",
       "      <td>2017-03-16 21:39:35</td>\n",
       "    </tr>\n",
       "    <tr>\n",
       "      <th>511</th>\n",
       "      <td>512</td>\n",
       "      <td>78</td>\n",
       "      <td>967</td>\n",
       "      <td>51450</td>\n",
       "      <td>2</td>\n",
       "      <td>cash</td>\n",
       "      <td>2017-03-09 7:23:14</td>\n",
       "    </tr>\n",
       "    <tr>\n",
       "      <th>617</th>\n",
       "      <td>618</td>\n",
       "      <td>78</td>\n",
       "      <td>760</td>\n",
       "      <td>51450</td>\n",
       "      <td>2</td>\n",
       "      <td>cash</td>\n",
       "      <td>2017-03-18 11:18:42</td>\n",
       "    </tr>\n",
       "    <tr>\n",
       "      <th>1529</th>\n",
       "      <td>1530</td>\n",
       "      <td>78</td>\n",
       "      <td>810</td>\n",
       "      <td>51450</td>\n",
       "      <td>2</td>\n",
       "      <td>cash</td>\n",
       "      <td>2017-03-29 7:12:01</td>\n",
       "    </tr>\n",
       "    <tr>\n",
       "      <th>2452</th>\n",
       "      <td>2453</td>\n",
       "      <td>78</td>\n",
       "      <td>709</td>\n",
       "      <td>51450</td>\n",
       "      <td>2</td>\n",
       "      <td>cash</td>\n",
       "      <td>2017-03-27 11:04:04</td>\n",
       "    </tr>\n",
       "    <tr>\n",
       "      <th>2495</th>\n",
       "      <td>2496</td>\n",
       "      <td>78</td>\n",
       "      <td>707</td>\n",
       "      <td>51450</td>\n",
       "      <td>2</td>\n",
       "      <td>cash</td>\n",
       "      <td>2017-03-26 4:38:52</td>\n",
       "    </tr>\n",
       "    <tr>\n",
       "      <th>2512</th>\n",
       "      <td>2513</td>\n",
       "      <td>78</td>\n",
       "      <td>935</td>\n",
       "      <td>51450</td>\n",
       "      <td>2</td>\n",
       "      <td>debit</td>\n",
       "      <td>2017-03-18 18:57:13</td>\n",
       "    </tr>\n",
       "    <tr>\n",
       "      <th>2818</th>\n",
       "      <td>2819</td>\n",
       "      <td>78</td>\n",
       "      <td>869</td>\n",
       "      <td>51450</td>\n",
       "      <td>2</td>\n",
       "      <td>debit</td>\n",
       "      <td>2017-03-17 6:25:51</td>\n",
       "    </tr>\n",
       "    <tr>\n",
       "      <th>2821</th>\n",
       "      <td>2822</td>\n",
       "      <td>78</td>\n",
       "      <td>814</td>\n",
       "      <td>51450</td>\n",
       "      <td>2</td>\n",
       "      <td>cash</td>\n",
       "      <td>2017-03-02 17:13:25</td>\n",
       "    </tr>\n",
       "    <tr>\n",
       "      <th>3101</th>\n",
       "      <td>3102</td>\n",
       "      <td>78</td>\n",
       "      <td>855</td>\n",
       "      <td>51450</td>\n",
       "      <td>2</td>\n",
       "      <td>credit_card</td>\n",
       "      <td>2017-03-21 5:10:34</td>\n",
       "    </tr>\n",
       "    <tr>\n",
       "      <th>3167</th>\n",
       "      <td>3168</td>\n",
       "      <td>78</td>\n",
       "      <td>927</td>\n",
       "      <td>51450</td>\n",
       "      <td>2</td>\n",
       "      <td>cash</td>\n",
       "      <td>2017-03-12 12:23:08</td>\n",
       "    </tr>\n",
       "    <tr>\n",
       "      <th>3705</th>\n",
       "      <td>3706</td>\n",
       "      <td>78</td>\n",
       "      <td>828</td>\n",
       "      <td>51450</td>\n",
       "      <td>2</td>\n",
       "      <td>credit_card</td>\n",
       "      <td>2017-03-14 20:43:15</td>\n",
       "    </tr>\n",
       "    <tr>\n",
       "      <th>4079</th>\n",
       "      <td>4080</td>\n",
       "      <td>78</td>\n",
       "      <td>946</td>\n",
       "      <td>51450</td>\n",
       "      <td>2</td>\n",
       "      <td>cash</td>\n",
       "      <td>2017-03-20 21:14:00</td>\n",
       "    </tr>\n",
       "    <tr>\n",
       "      <th>4311</th>\n",
       "      <td>4312</td>\n",
       "      <td>78</td>\n",
       "      <td>960</td>\n",
       "      <td>51450</td>\n",
       "      <td>2</td>\n",
       "      <td>debit</td>\n",
       "      <td>2017-03-01 3:02:10</td>\n",
       "    </tr>\n",
       "    <tr>\n",
       "      <th>4412</th>\n",
       "      <td>4413</td>\n",
       "      <td>78</td>\n",
       "      <td>756</td>\n",
       "      <td>51450</td>\n",
       "      <td>2</td>\n",
       "      <td>debit</td>\n",
       "      <td>2017-03-02 4:13:39</td>\n",
       "    </tr>\n",
       "  </tbody>\n",
       "</table>\n",
       "</div>"
      ],
      "text/plain": [
       "      order_id  shop_id  user_id  order_amount  total_items payment_method  \\\n",
       "490        491       78      936         51450            2          debit   \n",
       "493        494       78      983         51450            2           cash   \n",
       "511        512       78      967         51450            2           cash   \n",
       "617        618       78      760         51450            2           cash   \n",
       "1529      1530       78      810         51450            2           cash   \n",
       "2452      2453       78      709         51450            2           cash   \n",
       "2495      2496       78      707         51450            2           cash   \n",
       "2512      2513       78      935         51450            2          debit   \n",
       "2818      2819       78      869         51450            2          debit   \n",
       "2821      2822       78      814         51450            2           cash   \n",
       "3101      3102       78      855         51450            2    credit_card   \n",
       "3167      3168       78      927         51450            2           cash   \n",
       "3705      3706       78      828         51450            2    credit_card   \n",
       "4079      4080       78      946         51450            2           cash   \n",
       "4311      4312       78      960         51450            2          debit   \n",
       "4412      4413       78      756         51450            2          debit   \n",
       "\n",
       "               created_at  \n",
       "490   2017-03-26 17:08:19  \n",
       "493   2017-03-16 21:39:35  \n",
       "511    2017-03-09 7:23:14  \n",
       "617   2017-03-18 11:18:42  \n",
       "1529   2017-03-29 7:12:01  \n",
       "2452  2017-03-27 11:04:04  \n",
       "2495   2017-03-26 4:38:52  \n",
       "2512  2017-03-18 18:57:13  \n",
       "2818   2017-03-17 6:25:51  \n",
       "2821  2017-03-02 17:13:25  \n",
       "3101   2017-03-21 5:10:34  \n",
       "3167  2017-03-12 12:23:08  \n",
       "3705  2017-03-14 20:43:15  \n",
       "4079  2017-03-20 21:14:00  \n",
       "4311   2017-03-01 3:02:10  \n",
       "4412   2017-03-02 4:13:39  "
      ]
     },
     "execution_count": 166,
     "metadata": {},
     "output_type": "execute_result"
    }
   ],
   "source": [
    "data_frame[ data_frame[\"order_amount\"] == max_order_amount_with_2_total_items[\"order_amount\"]]"
   ]
  },
  {
   "cell_type": "markdown",
   "id": "e04c743f",
   "metadata": {},
   "source": [
    "Above are the all the max order amounts of order with 2 total items, and it is significant as the price of two shoes is \\\\$51450, which generally is not the average person is willing to spend. However, it is important to note the 16 orders are from the same shop with id 78 and 51450 divided by 2 is 25725, so the orders are most likely the same shoe which we saw previously in the max orders with 1 total items. It may seem the shoes might not be outliers afterall but lets take a further look."
   ]
  },
  {
   "cell_type": "code",
   "execution_count": 167,
   "id": "b40dcbd0",
   "metadata": {},
   "outputs": [
    {
     "data": {
      "text/plain": [
       "<AxesSubplot:xlabel='order_id', ylabel='order_amount'>"
      ]
     },
     "execution_count": 167,
     "metadata": {},
     "output_type": "execute_result"
    },
    {
     "data": {
      "image/png": "[encoded data removed]",
      "text/plain": [
       "<Figure size 432x288 with 1 Axes>"
      ]
     },
     "metadata": {
      "needs_background": "light"
     },
     "output_type": "display_data"
    }
   ],
   "source": [
    "data_frame[data_frame['total_items'] == 2].plot.scatter(x=\"order_id\", y=\"order_amount\")"
   ]
  },
  {
   "cell_type": "markdown",
   "id": "7af377b5",
   "metadata": {},
   "source": [
    "From the scatter plot above, which looks at all the orders with 2 total items it is clear the 16 orders with \\\\$51450 order amount are outliers with respect to orders with 2 total items, as majority of the data points lie at the bottom, which would influence the AOV. However, since the 19 orders from the previous max order with 1 total items, the $25725 shoes might not be an outlier, but none the less the AOV is not a metric which represents the data set."
   ]
  },
  {
   "cell_type": "markdown",
   "id": "8a89f2c4",
   "metadata": {},
   "source": [
    "Furthermore, lets look at the max order amounts of orders with 3 total items."
   ]
  },
  {
   "cell_type": "code",
   "execution_count": 168,
   "id": "07a86d47",
   "metadata": {},
   "outputs": [],
   "source": [
    "max_order_amount_with_3_total_items = data_frame[data_frame['total_items'] == 3].max()"
   ]
  },
  {
   "cell_type": "code",
   "execution_count": 169,
   "id": "efcc5fbc",
   "metadata": {},
   "outputs": [
    {
     "data": {
      "text/html": [
       "<div>\n",
       "<style scoped>\n",
       "    .dataframe tbody tr th:only-of-type {\n",
       "        vertical-align: middle;\n",
       "    }\n",
       "\n",
       "    .dataframe tbody tr th {\n",
       "        vertical-align: top;\n",
       "    }\n",
       "\n",
       "    .dataframe thead th {\n",
       "        text-align: right;\n",
       "    }\n",
       "</style>\n",
       "<table border=\"1\" class=\"dataframe\">\n",
       "  <thead>\n",
       "    <tr style=\"text-align: right;\">\n",
       "      <th></th>\n",
       "      <th>order_id</th>\n",
       "      <th>shop_id</th>\n",
       "      <th>user_id</th>\n",
       "      <th>order_amount</th>\n",
       "      <th>total_items</th>\n",
       "      <th>payment_method</th>\n",
       "      <th>created_at</th>\n",
       "    </tr>\n",
       "  </thead>\n",
       "  <tbody>\n",
       "    <tr>\n",
       "      <th>1259</th>\n",
       "      <td>1260</td>\n",
       "      <td>78</td>\n",
       "      <td>775</td>\n",
       "      <td>77175</td>\n",
       "      <td>3</td>\n",
       "      <td>credit_card</td>\n",
       "      <td>2017-03-27 9:27:20</td>\n",
       "    </tr>\n",
       "    <tr>\n",
       "      <th>2564</th>\n",
       "      <td>2565</td>\n",
       "      <td>78</td>\n",
       "      <td>915</td>\n",
       "      <td>77175</td>\n",
       "      <td>3</td>\n",
       "      <td>debit</td>\n",
       "      <td>2017-03-25 1:19:35</td>\n",
       "    </tr>\n",
       "    <tr>\n",
       "      <th>2690</th>\n",
       "      <td>2691</td>\n",
       "      <td>78</td>\n",
       "      <td>962</td>\n",
       "      <td>77175</td>\n",
       "      <td>3</td>\n",
       "      <td>debit</td>\n",
       "      <td>2017-03-22 7:33:25</td>\n",
       "    </tr>\n",
       "    <tr>\n",
       "      <th>2906</th>\n",
       "      <td>2907</td>\n",
       "      <td>78</td>\n",
       "      <td>817</td>\n",
       "      <td>77175</td>\n",
       "      <td>3</td>\n",
       "      <td>debit</td>\n",
       "      <td>2017-03-16 3:45:46</td>\n",
       "    </tr>\n",
       "    <tr>\n",
       "      <th>3403</th>\n",
       "      <td>3404</td>\n",
       "      <td>78</td>\n",
       "      <td>928</td>\n",
       "      <td>77175</td>\n",
       "      <td>3</td>\n",
       "      <td>debit</td>\n",
       "      <td>2017-03-16 9:45:05</td>\n",
       "    </tr>\n",
       "    <tr>\n",
       "      <th>3724</th>\n",
       "      <td>3725</td>\n",
       "      <td>78</td>\n",
       "      <td>766</td>\n",
       "      <td>77175</td>\n",
       "      <td>3</td>\n",
       "      <td>credit_card</td>\n",
       "      <td>2017-03-16 14:13:26</td>\n",
       "    </tr>\n",
       "    <tr>\n",
       "      <th>4192</th>\n",
       "      <td>4193</td>\n",
       "      <td>78</td>\n",
       "      <td>787</td>\n",
       "      <td>77175</td>\n",
       "      <td>3</td>\n",
       "      <td>credit_card</td>\n",
       "      <td>2017-03-18 9:25:32</td>\n",
       "    </tr>\n",
       "    <tr>\n",
       "      <th>4420</th>\n",
       "      <td>4421</td>\n",
       "      <td>78</td>\n",
       "      <td>969</td>\n",
       "      <td>77175</td>\n",
       "      <td>3</td>\n",
       "      <td>debit</td>\n",
       "      <td>2017-03-09 15:21:35</td>\n",
       "    </tr>\n",
       "    <tr>\n",
       "      <th>4715</th>\n",
       "      <td>4716</td>\n",
       "      <td>78</td>\n",
       "      <td>818</td>\n",
       "      <td>77175</td>\n",
       "      <td>3</td>\n",
       "      <td>debit</td>\n",
       "      <td>2017-03-05 5:10:44</td>\n",
       "    </tr>\n",
       "  </tbody>\n",
       "</table>\n",
       "</div>"
      ],
      "text/plain": [
       "      order_id  shop_id  user_id  order_amount  total_items payment_method  \\\n",
       "1259      1260       78      775         77175            3    credit_card   \n",
       "2564      2565       78      915         77175            3          debit   \n",
       "2690      2691       78      962         77175            3          debit   \n",
       "2906      2907       78      817         77175            3          debit   \n",
       "3403      3404       78      928         77175            3          debit   \n",
       "3724      3725       78      766         77175            3    credit_card   \n",
       "4192      4193       78      787         77175            3    credit_card   \n",
       "4420      4421       78      969         77175            3          debit   \n",
       "4715      4716       78      818         77175            3          debit   \n",
       "\n",
       "               created_at  \n",
       "1259   2017-03-27 9:27:20  \n",
       "2564   2017-03-25 1:19:35  \n",
       "2690   2017-03-22 7:33:25  \n",
       "2906   2017-03-16 3:45:46  \n",
       "3403   2017-03-16 9:45:05  \n",
       "3724  2017-03-16 14:13:26  \n",
       "4192   2017-03-18 9:25:32  \n",
       "4420  2017-03-09 15:21:35  \n",
       "4715   2017-03-05 5:10:44  "
      ]
     },
     "execution_count": 169,
     "metadata": {},
     "output_type": "execute_result"
    }
   ],
   "source": [
    "data_frame[ data_frame[\"order_amount\"] == max_order_amount_with_3_total_items[\"order_amount\"]]"
   ]
  },
  {
   "cell_type": "markdown",
   "id": "83745524",
   "metadata": {},
   "source": [
    "Similar to the orders with 2 total_items, above are the all the max order amounts of order with 3 total items, and it is significant as the price of three shoes is \\\\$77175, which generally is not the average person is willing to spend. However, it is important to note the 9 orders are from the same shop with id 78 and 77175 divided by 3 is 25725, so the orders are most likely the same shoe which we saw previously in the max orders with 1 total items. It may seem the shoes might not be outliers afterall but lets take a further look."
   ]
  },
  {
   "cell_type": "code",
   "execution_count": 170,
   "id": "dc248a0b",
   "metadata": {
    "scrolled": true
   },
   "outputs": [
    {
     "data": {
      "text/plain": [
       "<AxesSubplot:xlabel='order_id', ylabel='order_amount'>"
      ]
     },
     "execution_count": 170,
     "metadata": {},
     "output_type": "execute_result"
    },
    {
     "data": {
      "image/png": "[encoded data removed]",
      "text/plain": [
       "<Figure size 432x288 with 1 Axes>"
      ]
     },
     "metadata": {
      "needs_background": "light"
     },
     "output_type": "display_data"
    }
   ],
   "source": [
    "data_frame[data_frame['total_items'] == 3].plot.scatter(x=\"order_id\", y=\"order_amount\")"
   ]
  },
  {
   "cell_type": "markdown",
   "id": "d5d4de1a",
   "metadata": {},
   "source": [
    "Again similar to the orders with 2 total items, from the scatter plot above, which looks at all the orders with 3 total items it is clear the 9 orders with \\\\$77175 order amount are outliers with respect to orders with 3 total items, as majority of the data points lie at the bottom, which would influence the AOV. However, since the 35 orders from the previous max order with 1 and 2 total items, the $25725 shoes might not be an outlier, but none the less the AOV is not a metric which represents the data set."
   ]
  },
  {
   "cell_type": "markdown",
   "id": "18a8baaf",
   "metadata": {},
   "source": [
    "Moreover, lets look at the max order amounts of orders with 4 total items."
   ]
  },
  {
   "cell_type": "code",
   "execution_count": 171,
   "id": "dd06c4c6",
   "metadata": {},
   "outputs": [
    {
     "data": {
      "text/html": [
       "<div>\n",
       "<style scoped>\n",
       "    .dataframe tbody tr th:only-of-type {\n",
       "        vertical-align: middle;\n",
       "    }\n",
       "\n",
       "    .dataframe tbody tr th {\n",
       "        vertical-align: top;\n",
       "    }\n",
       "\n",
       "    .dataframe thead th {\n",
       "        text-align: right;\n",
       "    }\n",
       "</style>\n",
       "<table border=\"1\" class=\"dataframe\">\n",
       "  <thead>\n",
       "    <tr style=\"text-align: right;\">\n",
       "      <th></th>\n",
       "      <th>order_id</th>\n",
       "      <th>shop_id</th>\n",
       "      <th>user_id</th>\n",
       "      <th>order_amount</th>\n",
       "      <th>total_items</th>\n",
       "      <th>payment_method</th>\n",
       "      <th>created_at</th>\n",
       "    </tr>\n",
       "  </thead>\n",
       "  <tbody>\n",
       "    <tr>\n",
       "      <th>2492</th>\n",
       "      <td>2493</td>\n",
       "      <td>78</td>\n",
       "      <td>834</td>\n",
       "      <td>102900</td>\n",
       "      <td>4</td>\n",
       "      <td>debit</td>\n",
       "      <td>2017-03-04 4:37:34</td>\n",
       "    </tr>\n",
       "  </tbody>\n",
       "</table>\n",
       "</div>"
      ],
      "text/plain": [
       "      order_id  shop_id  user_id  order_amount  total_items payment_method  \\\n",
       "2492      2493       78      834        102900            4          debit   \n",
       "\n",
       "              created_at  \n",
       "2492  2017-03-04 4:37:34  "
      ]
     },
     "execution_count": 171,
     "metadata": {},
     "output_type": "execute_result"
    }
   ],
   "source": [
    "max_order_amount_with_4_total_items = data_frame[data_frame['total_items'] == 4].max()\n",
    "data_frame[ data_frame[\"order_amount\"] == max_order_amount_with_4_total_items[\"order_amount\"]]"
   ]
  },
  {
   "cell_type": "code",
   "execution_count": 172,
   "id": "acc79468",
   "metadata": {},
   "outputs": [
    {
     "data": {
      "text/plain": [
       "<AxesSubplot:xlabel='order_id', ylabel='order_amount'>"
      ]
     },
     "execution_count": 172,
     "metadata": {},
     "output_type": "execute_result"
    },
    {
     "data": {
      "image/png": "[encoded data removed]",
      "text/plain": [
       "<Figure size 432x288 with 1 Axes>"
      ]
     },
     "metadata": {
      "needs_background": "light"
     },
     "output_type": "display_data"
    }
   ],
   "source": [
    "data_frame[data_frame['total_items'] == 4].plot.scatter(x=\"order_id\", y=\"order_amount\")"
   ]
  },
  {
   "cell_type": "markdown",
   "id": "fd76c1fa",
   "metadata": {},
   "source": [
    "Above we see the max order of orders with 4 total items. There is one order of 102900, which is an outlier with respect to the rest of the order with 4 total items. This order is from the same shop 78 which sells the \\\\$25725, so this $102900 order is most likely for 4 of the \\\\$25725 shoe. It is evident how this one point can influence the AOV."
   ]
  },
  {
   "cell_type": "markdown",
   "id": "31c1a292",
   "metadata": {},
   "source": [
    "Moreover, lets look at the max order amounts of orders with 5 total items."
   ]
  },
  {
   "cell_type": "code",
   "execution_count": 173,
   "id": "16e4002a",
   "metadata": {},
   "outputs": [
    {
     "data": {
      "text/html": [
       "<div>\n",
       "<style scoped>\n",
       "    .dataframe tbody tr th:only-of-type {\n",
       "        vertical-align: middle;\n",
       "    }\n",
       "\n",
       "    .dataframe tbody tr th {\n",
       "        vertical-align: top;\n",
       "    }\n",
       "\n",
       "    .dataframe thead th {\n",
       "        text-align: right;\n",
       "    }\n",
       "</style>\n",
       "<table border=\"1\" class=\"dataframe\">\n",
       "  <thead>\n",
       "    <tr style=\"text-align: right;\">\n",
       "      <th></th>\n",
       "      <th>order_id</th>\n",
       "      <th>shop_id</th>\n",
       "      <th>user_id</th>\n",
       "      <th>order_amount</th>\n",
       "      <th>total_items</th>\n",
       "      <th>payment_method</th>\n",
       "      <th>created_at</th>\n",
       "    </tr>\n",
       "  </thead>\n",
       "  <tbody>\n",
       "    <tr>\n",
       "      <th>1364</th>\n",
       "      <td>1365</td>\n",
       "      <td>42</td>\n",
       "      <td>797</td>\n",
       "      <td>1760</td>\n",
       "      <td>5</td>\n",
       "      <td>cash</td>\n",
       "      <td>2017-03-10 6:28:21</td>\n",
       "    </tr>\n",
       "  </tbody>\n",
       "</table>\n",
       "</div>"
      ],
      "text/plain": [
       "      order_id  shop_id  user_id  order_amount  total_items payment_method  \\\n",
       "1364      1365       42      797          1760            5           cash   \n",
       "\n",
       "              created_at  \n",
       "1364  2017-03-10 6:28:21  "
      ]
     },
     "execution_count": 173,
     "metadata": {},
     "output_type": "execute_result"
    }
   ],
   "source": [
    "max_order_amount_with_5_total_items = data_frame[data_frame['total_items'] == 5].max()\n",
    "data_frame[ data_frame[\"order_amount\"] == max_order_amount_with_5_total_items[\"order_amount\"]]"
   ]
  },
  {
   "cell_type": "code",
   "execution_count": 174,
   "id": "988a1a07",
   "metadata": {},
   "outputs": [
    {
     "data": {
      "text/plain": [
       "<AxesSubplot:xlabel='order_id', ylabel='order_amount'>"
      ]
     },
     "execution_count": 174,
     "metadata": {},
     "output_type": "execute_result"
    },
    {
     "data": {
      "image/png": "[encoded data removed]",
      "text/plain": [
       "<Figure size 432x288 with 1 Axes>"
      ]
     },
     "metadata": {
      "needs_background": "light"
     },
     "output_type": "display_data"
    }
   ],
   "source": [
    "data_frame[data_frame['total_items'] == 5].plot.scatter(x=\"order_id\", y=\"order_amount\")"
   ]
  },
  {
   "cell_type": "markdown",
   "id": "2e4bd2b6",
   "metadata": {},
   "source": [
    "Here we see the order with id 1365 to be an outlier with respect to the order of 5 total items, which again also influences the AOV."
   ]
  },
  {
   "cell_type": "markdown",
   "id": "5dded574",
   "metadata": {},
   "source": [
    "Lets now look at the max order amounts of orders with 6 total items."
   ]
  },
  {
   "cell_type": "code",
   "execution_count": 175,
   "id": "9221d019",
   "metadata": {},
   "outputs": [
    {
     "data": {
      "text/html": [
       "<div>\n",
       "<style scoped>\n",
       "    .dataframe tbody tr th:only-of-type {\n",
       "        vertical-align: middle;\n",
       "    }\n",
       "\n",
       "    .dataframe tbody tr th {\n",
       "        vertical-align: top;\n",
       "    }\n",
       "\n",
       "    .dataframe thead th {\n",
       "        text-align: right;\n",
       "    }\n",
       "</style>\n",
       "<table border=\"1\" class=\"dataframe\">\n",
       "  <thead>\n",
       "    <tr style=\"text-align: right;\">\n",
       "      <th></th>\n",
       "      <th>order_id</th>\n",
       "      <th>shop_id</th>\n",
       "      <th>user_id</th>\n",
       "      <th>order_amount</th>\n",
       "      <th>total_items</th>\n",
       "      <th>payment_method</th>\n",
       "      <th>created_at</th>\n",
       "    </tr>\n",
       "  </thead>\n",
       "  <tbody>\n",
       "    <tr>\n",
       "      <th>691</th>\n",
       "      <td>692</td>\n",
       "      <td>78</td>\n",
       "      <td>878</td>\n",
       "      <td>154350</td>\n",
       "      <td>6</td>\n",
       "      <td>debit</td>\n",
       "      <td>2017-03-27 22:51:43</td>\n",
       "    </tr>\n",
       "  </tbody>\n",
       "</table>\n",
       "</div>"
      ],
      "text/plain": [
       "     order_id  shop_id  user_id  order_amount  total_items payment_method  \\\n",
       "691       692       78      878        154350            6          debit   \n",
       "\n",
       "              created_at  \n",
       "691  2017-03-27 22:51:43  "
      ]
     },
     "execution_count": 175,
     "metadata": {},
     "output_type": "execute_result"
    }
   ],
   "source": [
    "max_order_amount_with_6_total_items = data_frame[data_frame['total_items'] == 6].max()\n",
    "data_frame[ data_frame[\"order_amount\"] == max_order_amount_with_6_total_items[\"order_amount\"]]"
   ]
  },
  {
   "cell_type": "code",
   "execution_count": 176,
   "id": "d542467b",
   "metadata": {},
   "outputs": [
    {
     "data": {
      "text/plain": [
       "<AxesSubplot:xlabel='order_id', ylabel='order_amount'>"
      ]
     },
     "execution_count": 176,
     "metadata": {},
     "output_type": "execute_result"
    },
    {
     "data": {
      "image/png": "[encoded data removed]",
      "text/plain": [
       "<Figure size 432x288 with 1 Axes>"
      ]
     },
     "metadata": {
      "needs_background": "light"
     },
     "output_type": "display_data"
    }
   ],
   "source": [
    "data_frame[data_frame['total_items'] == 6].plot.scatter(x=\"order_id\", y=\"order_amount\")"
   ]
  },
  {
   "cell_type": "markdown",
   "id": "584b2c20",
   "metadata": {},
   "source": [
    "Above we see that the max order from the category of order of 6 total items, is an outlier with respect to the rest of the orders in the same catergory. This order will influence the AOV as well."
   ]
  },
  {
   "cell_type": "markdown",
   "id": "30ad7ab1",
   "metadata": {},
   "source": [
    "Lets now look at the max order amounts of orders with 8 total items."
   ]
  },
  {
   "cell_type": "code",
   "execution_count": 177,
   "id": "bddad0ef",
   "metadata": {},
   "outputs": [
    {
     "data": {
      "text/html": [
       "<div>\n",
       "<style scoped>\n",
       "    .dataframe tbody tr th:only-of-type {\n",
       "        vertical-align: middle;\n",
       "    }\n",
       "\n",
       "    .dataframe tbody tr th {\n",
       "        vertical-align: top;\n",
       "    }\n",
       "\n",
       "    .dataframe thead th {\n",
       "        text-align: right;\n",
       "    }\n",
       "</style>\n",
       "<table border=\"1\" class=\"dataframe\">\n",
       "  <thead>\n",
       "    <tr style=\"text-align: right;\">\n",
       "      <th></th>\n",
       "      <th>order_id</th>\n",
       "      <th>shop_id</th>\n",
       "      <th>user_id</th>\n",
       "      <th>order_amount</th>\n",
       "      <th>total_items</th>\n",
       "      <th>payment_method</th>\n",
       "      <th>created_at</th>\n",
       "    </tr>\n",
       "  </thead>\n",
       "  <tbody>\n",
       "    <tr>\n",
       "      <th>4141</th>\n",
       "      <td>4142</td>\n",
       "      <td>54</td>\n",
       "      <td>733</td>\n",
       "      <td>1064</td>\n",
       "      <td>8</td>\n",
       "      <td>debit</td>\n",
       "      <td>2017-03-07 17:05:18</td>\n",
       "    </tr>\n",
       "  </tbody>\n",
       "</table>\n",
       "</div>"
      ],
      "text/plain": [
       "      order_id  shop_id  user_id  order_amount  total_items payment_method  \\\n",
       "4141      4142       54      733          1064            8          debit   \n",
       "\n",
       "               created_at  \n",
       "4141  2017-03-07 17:05:18  "
      ]
     },
     "execution_count": 177,
     "metadata": {},
     "output_type": "execute_result"
    }
   ],
   "source": [
    "max_order_amount_with_8_total_items = data_frame[data_frame['total_items'] == 8].max()\n",
    "data_frame[ data_frame[\"order_amount\"] == max_order_amount_with_8_total_items[\"order_amount\"]]"
   ]
  },
  {
   "cell_type": "code",
   "execution_count": 178,
   "id": "92125bd6",
   "metadata": {},
   "outputs": [
    {
     "data": {
      "text/plain": [
       "<AxesSubplot:xlabel='order_id', ylabel='order_amount'>"
      ]
     },
     "execution_count": 178,
     "metadata": {},
     "output_type": "execute_result"
    },
    {
     "data": {
      "image/png": "[encoded data removed]",
      "text/plain": [
       "<Figure size 432x288 with 1 Axes>"
      ]
     },
     "metadata": {
      "needs_background": "light"
     },
     "output_type": "display_data"
    }
   ],
   "source": [
    "data_frame[data_frame['total_items'] == 8].plot.scatter(x=\"order_id\", y=\"order_amount\")"
   ]
  },
  {
   "cell_type": "markdown",
   "id": "e853c4e1",
   "metadata": {},
   "source": [
    "Here in the category of order with 8 total items, we see that there is only one order of 8 total items, which is not a outlier, however it might still affect the AOV, and we will see talk about that later on. Lets take a look at the last category of 2000 total items."
   ]
  },
  {
   "cell_type": "code",
   "execution_count": 179,
   "id": "d6fefcfe",
   "metadata": {},
   "outputs": [
    {
     "data": {
      "text/html": [
       "<div>\n",
       "<style scoped>\n",
       "    .dataframe tbody tr th:only-of-type {\n",
       "        vertical-align: middle;\n",
       "    }\n",
       "\n",
       "    .dataframe tbody tr th {\n",
       "        vertical-align: top;\n",
       "    }\n",
       "\n",
       "    .dataframe thead th {\n",
       "        text-align: right;\n",
       "    }\n",
       "</style>\n",
       "<table border=\"1\" class=\"dataframe\">\n",
       "  <thead>\n",
       "    <tr style=\"text-align: right;\">\n",
       "      <th></th>\n",
       "      <th>order_id</th>\n",
       "      <th>shop_id</th>\n",
       "      <th>user_id</th>\n",
       "      <th>order_amount</th>\n",
       "      <th>total_items</th>\n",
       "      <th>payment_method</th>\n",
       "      <th>created_at</th>\n",
       "    </tr>\n",
       "  </thead>\n",
       "  <tbody>\n",
       "    <tr>\n",
       "      <th>15</th>\n",
       "      <td>16</td>\n",
       "      <td>42</td>\n",
       "      <td>607</td>\n",
       "      <td>704000</td>\n",
       "      <td>2000</td>\n",
       "      <td>credit_card</td>\n",
       "      <td>2017-03-07 4:00:00</td>\n",
       "    </tr>\n",
       "    <tr>\n",
       "      <th>60</th>\n",
       "      <td>61</td>\n",
       "      <td>42</td>\n",
       "      <td>607</td>\n",
       "      <td>704000</td>\n",
       "      <td>2000</td>\n",
       "      <td>credit_card</td>\n",
       "      <td>2017-03-04 4:00:00</td>\n",
       "    </tr>\n",
       "    <tr>\n",
       "      <th>520</th>\n",
       "      <td>521</td>\n",
       "      <td>42</td>\n",
       "      <td>607</td>\n",
       "      <td>704000</td>\n",
       "      <td>2000</td>\n",
       "      <td>credit_card</td>\n",
       "      <td>2017-03-02 4:00:00</td>\n",
       "    </tr>\n",
       "    <tr>\n",
       "      <th>1104</th>\n",
       "      <td>1105</td>\n",
       "      <td>42</td>\n",
       "      <td>607</td>\n",
       "      <td>704000</td>\n",
       "      <td>2000</td>\n",
       "      <td>credit_card</td>\n",
       "      <td>2017-03-24 4:00:00</td>\n",
       "    </tr>\n",
       "    <tr>\n",
       "      <th>1362</th>\n",
       "      <td>1363</td>\n",
       "      <td>42</td>\n",
       "      <td>607</td>\n",
       "      <td>704000</td>\n",
       "      <td>2000</td>\n",
       "      <td>credit_card</td>\n",
       "      <td>2017-03-15 4:00:00</td>\n",
       "    </tr>\n",
       "    <tr>\n",
       "      <th>1436</th>\n",
       "      <td>1437</td>\n",
       "      <td>42</td>\n",
       "      <td>607</td>\n",
       "      <td>704000</td>\n",
       "      <td>2000</td>\n",
       "      <td>credit_card</td>\n",
       "      <td>2017-03-11 4:00:00</td>\n",
       "    </tr>\n",
       "    <tr>\n",
       "      <th>1562</th>\n",
       "      <td>1563</td>\n",
       "      <td>42</td>\n",
       "      <td>607</td>\n",
       "      <td>704000</td>\n",
       "      <td>2000</td>\n",
       "      <td>credit_card</td>\n",
       "      <td>2017-03-19 4:00:00</td>\n",
       "    </tr>\n",
       "    <tr>\n",
       "      <th>1602</th>\n",
       "      <td>1603</td>\n",
       "      <td>42</td>\n",
       "      <td>607</td>\n",
       "      <td>704000</td>\n",
       "      <td>2000</td>\n",
       "      <td>credit_card</td>\n",
       "      <td>2017-03-17 4:00:00</td>\n",
       "    </tr>\n",
       "    <tr>\n",
       "      <th>2153</th>\n",
       "      <td>2154</td>\n",
       "      <td>42</td>\n",
       "      <td>607</td>\n",
       "      <td>704000</td>\n",
       "      <td>2000</td>\n",
       "      <td>credit_card</td>\n",
       "      <td>2017-03-12 4:00:00</td>\n",
       "    </tr>\n",
       "    <tr>\n",
       "      <th>2297</th>\n",
       "      <td>2298</td>\n",
       "      <td>42</td>\n",
       "      <td>607</td>\n",
       "      <td>704000</td>\n",
       "      <td>2000</td>\n",
       "      <td>credit_card</td>\n",
       "      <td>2017-03-07 4:00:00</td>\n",
       "    </tr>\n",
       "    <tr>\n",
       "      <th>2835</th>\n",
       "      <td>2836</td>\n",
       "      <td>42</td>\n",
       "      <td>607</td>\n",
       "      <td>704000</td>\n",
       "      <td>2000</td>\n",
       "      <td>credit_card</td>\n",
       "      <td>2017-03-28 4:00:00</td>\n",
       "    </tr>\n",
       "    <tr>\n",
       "      <th>2969</th>\n",
       "      <td>2970</td>\n",
       "      <td>42</td>\n",
       "      <td>607</td>\n",
       "      <td>704000</td>\n",
       "      <td>2000</td>\n",
       "      <td>credit_card</td>\n",
       "      <td>2017-03-28 4:00:00</td>\n",
       "    </tr>\n",
       "    <tr>\n",
       "      <th>3332</th>\n",
       "      <td>3333</td>\n",
       "      <td>42</td>\n",
       "      <td>607</td>\n",
       "      <td>704000</td>\n",
       "      <td>2000</td>\n",
       "      <td>credit_card</td>\n",
       "      <td>2017-03-24 4:00:00</td>\n",
       "    </tr>\n",
       "    <tr>\n",
       "      <th>4056</th>\n",
       "      <td>4057</td>\n",
       "      <td>42</td>\n",
       "      <td>607</td>\n",
       "      <td>704000</td>\n",
       "      <td>2000</td>\n",
       "      <td>credit_card</td>\n",
       "      <td>2017-03-28 4:00:00</td>\n",
       "    </tr>\n",
       "    <tr>\n",
       "      <th>4646</th>\n",
       "      <td>4647</td>\n",
       "      <td>42</td>\n",
       "      <td>607</td>\n",
       "      <td>704000</td>\n",
       "      <td>2000</td>\n",
       "      <td>credit_card</td>\n",
       "      <td>2017-03-02 4:00:00</td>\n",
       "    </tr>\n",
       "    <tr>\n",
       "      <th>4868</th>\n",
       "      <td>4869</td>\n",
       "      <td>42</td>\n",
       "      <td>607</td>\n",
       "      <td>704000</td>\n",
       "      <td>2000</td>\n",
       "      <td>credit_card</td>\n",
       "      <td>2017-03-22 4:00:00</td>\n",
       "    </tr>\n",
       "    <tr>\n",
       "      <th>4882</th>\n",
       "      <td>4883</td>\n",
       "      <td>42</td>\n",
       "      <td>607</td>\n",
       "      <td>704000</td>\n",
       "      <td>2000</td>\n",
       "      <td>credit_card</td>\n",
       "      <td>2017-03-25 4:00:00</td>\n",
       "    </tr>\n",
       "  </tbody>\n",
       "</table>\n",
       "</div>"
      ],
      "text/plain": [
       "      order_id  shop_id  user_id  order_amount  total_items payment_method  \\\n",
       "15          16       42      607        704000         2000    credit_card   \n",
       "60          61       42      607        704000         2000    credit_card   \n",
       "520        521       42      607        704000         2000    credit_card   \n",
       "1104      1105       42      607        704000         2000    credit_card   \n",
       "1362      1363       42      607        704000         2000    credit_card   \n",
       "1436      1437       42      607        704000         2000    credit_card   \n",
       "1562      1563       42      607        704000         2000    credit_card   \n",
       "1602      1603       42      607        704000         2000    credit_card   \n",
       "2153      2154       42      607        704000         2000    credit_card   \n",
       "2297      2298       42      607        704000         2000    credit_card   \n",
       "2835      2836       42      607        704000         2000    credit_card   \n",
       "2969      2970       42      607        704000         2000    credit_card   \n",
       "3332      3333       42      607        704000         2000    credit_card   \n",
       "4056      4057       42      607        704000         2000    credit_card   \n",
       "4646      4647       42      607        704000         2000    credit_card   \n",
       "4868      4869       42      607        704000         2000    credit_card   \n",
       "4882      4883       42      607        704000         2000    credit_card   \n",
       "\n",
       "              created_at  \n",
       "15    2017-03-07 4:00:00  \n",
       "60    2017-03-04 4:00:00  \n",
       "520   2017-03-02 4:00:00  \n",
       "1104  2017-03-24 4:00:00  \n",
       "1362  2017-03-15 4:00:00  \n",
       "1436  2017-03-11 4:00:00  \n",
       "1562  2017-03-19 4:00:00  \n",
       "1602  2017-03-17 4:00:00  \n",
       "2153  2017-03-12 4:00:00  \n",
       "2297  2017-03-07 4:00:00  \n",
       "2835  2017-03-28 4:00:00  \n",
       "2969  2017-03-28 4:00:00  \n",
       "3332  2017-03-24 4:00:00  \n",
       "4056  2017-03-28 4:00:00  \n",
       "4646  2017-03-02 4:00:00  \n",
       "4868  2017-03-22 4:00:00  \n",
       "4882  2017-03-25 4:00:00  "
      ]
     },
     "execution_count": 179,
     "metadata": {},
     "output_type": "execute_result"
    }
   ],
   "source": [
    "max_order_amount_with_2000_total_items = data_frame[data_frame['total_items'] == 2000].max()\n",
    "data_frame[ data_frame[\"order_amount\"] == max_order_amount_with_2000_total_items[\"order_amount\"]]"
   ]
  },
  {
   "cell_type": "code",
   "execution_count": 180,
   "id": "018c9084",
   "metadata": {},
   "outputs": [
    {
     "data": {
      "text/plain": [
       "<AxesSubplot:xlabel='order_id', ylabel='order_amount'>"
      ]
     },
     "execution_count": 180,
     "metadata": {},
     "output_type": "execute_result"
    },
    {
     "data": {
      "image/png": "[encoded data removed]",
      "text/plain": [
       "<Figure size 432x288 with 1 Axes>"
      ]
     },
     "metadata": {
      "needs_background": "light"
     },
     "output_type": "display_data"
    }
   ],
   "source": [
    "data_frame[data_frame['total_items'] == 2000].plot.scatter(x=\"order_id\", y=\"order_amount\")"
   ]
  },
  {
   "cell_type": "markdown",
   "id": "276af546",
   "metadata": {},
   "source": [
    "Here are the 17 orders of 2000 total items, what we see here is that there is they are not outliers with respect to the orders of 2000 total items. In addition, this category is the most significant and it is placed by the same user who might be a wholesaler buying in bulk and automating it as it is made at the same time. However, the order amount is 704000 which is significant and influences the AOV and we will discuss that further in a bit."
   ]
  },
  {
   "cell_type": "markdown",
   "id": "0030a0a0",
   "metadata": {},
   "source": [
    "### Check for duplicates"
   ]
  },
  {
   "cell_type": "code",
   "execution_count": 189,
   "id": "5b0031f1",
   "metadata": {},
   "outputs": [
    {
     "data": {
      "text/html": [
       "<div>\n",
       "<style scoped>\n",
       "    .dataframe tbody tr th:only-of-type {\n",
       "        vertical-align: middle;\n",
       "    }\n",
       "\n",
       "    .dataframe tbody tr th {\n",
       "        vertical-align: top;\n",
       "    }\n",
       "\n",
       "    .dataframe thead th {\n",
       "        text-align: right;\n",
       "    }\n",
       "</style>\n",
       "<table border=\"1\" class=\"dataframe\">\n",
       "  <thead>\n",
       "    <tr style=\"text-align: right;\">\n",
       "      <th></th>\n",
       "      <th>order_id</th>\n",
       "      <th>shop_id</th>\n",
       "      <th>user_id</th>\n",
       "      <th>order_amount</th>\n",
       "      <th>total_items</th>\n",
       "      <th>payment_method</th>\n",
       "      <th>created_at</th>\n",
       "    </tr>\n",
       "  </thead>\n",
       "  <tbody>\n",
       "    <tr>\n",
       "      <th>2297</th>\n",
       "      <td>2298</td>\n",
       "      <td>42</td>\n",
       "      <td>607</td>\n",
       "      <td>704000</td>\n",
       "      <td>2000</td>\n",
       "      <td>credit_card</td>\n",
       "      <td>2017-03-07 4:00:00</td>\n",
       "    </tr>\n",
       "    <tr>\n",
       "      <th>2969</th>\n",
       "      <td>2970</td>\n",
       "      <td>42</td>\n",
       "      <td>607</td>\n",
       "      <td>704000</td>\n",
       "      <td>2000</td>\n",
       "      <td>credit_card</td>\n",
       "      <td>2017-03-28 4:00:00</td>\n",
       "    </tr>\n",
       "    <tr>\n",
       "      <th>3332</th>\n",
       "      <td>3333</td>\n",
       "      <td>42</td>\n",
       "      <td>607</td>\n",
       "      <td>704000</td>\n",
       "      <td>2000</td>\n",
       "      <td>credit_card</td>\n",
       "      <td>2017-03-24 4:00:00</td>\n",
       "    </tr>\n",
       "    <tr>\n",
       "      <th>4056</th>\n",
       "      <td>4057</td>\n",
       "      <td>42</td>\n",
       "      <td>607</td>\n",
       "      <td>704000</td>\n",
       "      <td>2000</td>\n",
       "      <td>credit_card</td>\n",
       "      <td>2017-03-28 4:00:00</td>\n",
       "    </tr>\n",
       "    <tr>\n",
       "      <th>4646</th>\n",
       "      <td>4647</td>\n",
       "      <td>42</td>\n",
       "      <td>607</td>\n",
       "      <td>704000</td>\n",
       "      <td>2000</td>\n",
       "      <td>credit_card</td>\n",
       "      <td>2017-03-02 4:00:00</td>\n",
       "    </tr>\n",
       "  </tbody>\n",
       "</table>\n",
       "</div>"
      ],
      "text/plain": [
       "      order_id  shop_id  user_id  order_amount  total_items payment_method  \\\n",
       "2297      2298       42      607        704000         2000    credit_card   \n",
       "2969      2970       42      607        704000         2000    credit_card   \n",
       "3332      3333       42      607        704000         2000    credit_card   \n",
       "4056      4057       42      607        704000         2000    credit_card   \n",
       "4646      4647       42      607        704000         2000    credit_card   \n",
       "\n",
       "              created_at  \n",
       "2297  2017-03-07 4:00:00  \n",
       "2969  2017-03-28 4:00:00  \n",
       "3332  2017-03-24 4:00:00  \n",
       "4056  2017-03-28 4:00:00  \n",
       "4646  2017-03-02 4:00:00  "
      ]
     },
     "execution_count": 189,
     "metadata": {},
     "output_type": "execute_result"
    }
   ],
   "source": [
    "data_frame[data_frame.duplicated(subset=['user_id','created_at'], keep='first')]"
   ]
  },
  {
   "cell_type": "markdown",
   "id": "dcb68137",
   "metadata": {},
   "source": [
    "Here we see the rows which are duplicated in the entire dataset and they are from the category of orders with 2000 total items. This is an indication there is an issue with entering the data into the table, thus creating misentries which is also contributes to the inaccuracy of the AOV."
   ]
  },
  {
   "cell_type": "code",
   "execution_count": 181,
   "id": "afcecbf2",
   "metadata": {},
   "outputs": [
    {
     "data": {
      "image/png": "[encoded data removed]",
      "text/plain": [
       "<Figure size 432x288 with 1 Axes>"
      ]
     },
     "metadata": {
      "needs_background": "light"
     },
     "output_type": "display_data"
    }
   ],
   "source": [
    "order_id_vs_order_amount = data_frame.plot.scatter(x=\"order_id\", y=\"order_amount\")"
   ]
  },
  {
   "cell_type": "markdown",
   "id": "dc7dd1bc",
   "metadata": {},
   "source": [
    "Overall, we see the outliers discussed above in the scatter plot above where majority of the orders lie at the bottom in the area of the straight blue line. These outliers do influence our AOV, as their order amounts are significant compared to the standard (or denominator of the number of orders) they are being measured againts. The AOV does not take into consideration the number of shoes being purchased per order and is thus treating each order equally. For example, an order with 1 total items for \\\\$100 is not equal to an order of 2000 shoes worth $704000. Therefore, the AOV is influenced by order with high order amounts and it does not take into account how many shoes are part of the orders giving us an unwanted average for the values of shoes purchased per order. The AOV is thus skewed and not a good metric to represent the dataset."
   ]
  },
  {
   "cell_type": "markdown",
   "id": "4e8113db",
   "metadata": {},
   "source": [
    "##  Solution for a metric to represent the dataset better"
   ]
  },
  {
   "cell_type": "markdown",
   "id": "f76f8829",
   "metadata": {},
   "source": [
    "Initially, lets remove all duplicates within the dataset."
   ]
  },
  {
   "cell_type": "code",
   "execution_count": 195,
   "id": "84a3a85a",
   "metadata": {},
   "outputs": [
    {
     "data": {
      "text/plain": [
       "5000"
      ]
     },
     "execution_count": 195,
     "metadata": {},
     "output_type": "execute_result"
    }
   ],
   "source": [
    "len(data_frame)"
   ]
  },
  {
   "cell_type": "code",
   "execution_count": 210,
   "id": "086592b4",
   "metadata": {},
   "outputs": [],
   "source": [
    "data_frame = data_frame.drop_duplicates(subset=['user_id','created_at'], keep='first')"
   ]
  },
  {
   "cell_type": "code",
   "execution_count": 211,
   "id": "38f82fc3",
   "metadata": {},
   "outputs": [
    {
     "data": {
      "text/plain": [
       "4995"
      ]
     },
     "execution_count": 211,
     "metadata": {},
     "output_type": "execute_result"
    }
   ],
   "source": [
    "len(data_frame)"
   ]
  },
  {
   "cell_type": "markdown",
   "id": "005ae25a",
   "metadata": {},
   "source": [
    "Lets calculate the average shoe value/price instead of the AOV, by getting the sum from the order_amount column and dividing it by the sum from the total_items column."
   ]
  },
  {
   "cell_type": "code",
   "execution_count": 217,
   "id": "11869685",
   "metadata": {},
   "outputs": [],
   "source": [
    "total_items = data_frame[\"total_items\"].sum()"
   ]
  },
  {
   "cell_type": "code",
   "execution_count": 213,
   "id": "13aeb968",
   "metadata": {},
   "outputs": [
    {
     "name": "stdout",
     "output_type": "stream",
     "text": [
      "33936\n"
     ]
    }
   ],
   "source": [
    "print(total_items)"
   ]
  },
  {
   "cell_type": "code",
   "execution_count": 214,
   "id": "b028dd26",
   "metadata": {},
   "outputs": [],
   "source": [
    "total = data_frame[\"order_amount\"].sum()"
   ]
  },
  {
   "cell_type": "code",
   "execution_count": 215,
   "id": "6d24fbf5",
   "metadata": {},
   "outputs": [],
   "source": [
    "average_shoe_value = total/total_items"
   ]
  },
  {
   "cell_type": "code",
   "execution_count": 216,
   "id": "42578937",
   "metadata": {},
   "outputs": [
    {
     "name": "stdout",
     "output_type": "stream",
     "text": [
      "359.6664309288072\n"
     ]
    }
   ],
   "source": [
    "print(average_shoe_value)"
   ]
  },
  {
   "cell_type": "markdown",
   "id": "5572f69f",
   "metadata": {},
   "source": [
    "# Question 1"
   ]
  },
  {
   "cell_type": "markdown",
   "id": "19cb066f",
   "metadata": {},
   "source": [
    "#####  a. Think about what could be going wrong with our calculation. Think about a better way to evaluate this data. "
   ]
  },
  {
   "cell_type": "markdown",
   "id": "4a9f5de5",
   "metadata": {},
   "source": [
    "The outliers discussed above in the scatter plot above where majority of the orders lie at the bottom in the area of the straight blue line. These outliers do influence our AOV, as their order amounts are significant compared to the standard (or denominator of the number of orders) they are being measured againsts. The AOV does not take into consideration the number of shoes being purchased per order and is thus treating each order equally. For example, an order with 1 total items for \\\\$100 is not equal to an order of 2000 shoes worth $704000. Therefore, the AOV is influenced by order with high order amounts and it does not take into account how many shoes are part of the orders giving us an unwanted average for the values of shoes purchased per order. Along with the duplicated rows, which were of a significant order_amount of \\\\$704000 would give us an inaccurate and skewed AOV. The AOV is thus skewed and not a good metric to represent the dataset. A better way to evaluate this data would be to find the average price of each shoe by finding the sum from the order_amount column and dividing it by the sum from the total_items column, which takes into consideration the amount of shoes sold in each order. However, before that we should remove any significant outliers and remove any duplicates as well from the dataset."
   ]
  },
  {
   "cell_type": "markdown",
   "id": "f445dcad",
   "metadata": {},
   "source": [
    "##### b. What metric would you report for this dataset?"
   ]
  },
  {
   "cell_type": "markdown",
   "id": "8f27f4be",
   "metadata": {},
   "source": [
    "I would use the average shoe value (ASV). Using the AOV our result would be skewed by the large order_amount values where the total_items of each order is not taken into account. Using the ASV we find the average price of each shoe, by getting the sum from the order_amount column and dividing it by the sum from the total_items column."
   ]
  },
  {
   "cell_type": "markdown",
   "id": "34e8457f",
   "metadata": {},
   "source": [
    "##### c. What is its value?"
   ]
  },
  {
   "cell_type": "code",
   "execution_count": 220,
   "id": "0ca75b29",
   "metadata": {},
   "outputs": [
    {
     "name": "stdout",
     "output_type": "stream",
     "text": [
      "359.6664309288072\n"
     ]
    }
   ],
   "source": [
    "data_frame = data_frame.drop_duplicates(subset=['user_id','created_at'], keep='first')\n",
    "total_items = data_frame[\"total_items\"].sum()\n",
    "total_order_amount = data_frame[\"order_amount\"].sum()\n",
    "average_shoe_value = total/total_items\n",
    "print(average_shoe_value)"
   ]
  },
  {
   "cell_type": "markdown",
   "id": "6a18e987",
   "metadata": {},
   "source": [
    "The Average Shoe Value is: $359.67"
   ]
  },
  {
   "cell_type": "markdown",
   "id": "a72b6820",
   "metadata": {},
   "source": [
    "# Question 2"
   ]
  },
  {
   "cell_type": "markdown",
   "id": "f403186f",
   "metadata": {},
   "source": [
    "##### a. How many orders were shipped by Speedy Express in total?"
   ]
  },
  {
   "cell_type": "markdown",
   "id": "4947409b",
   "metadata": {},
   "source": [
    "Query: SELECT COUNT(*) FROM Orders INNER JOIN Shippers ON Orders.ShipperID=Shippers.ShipperID WHERE Shippers.ShipperName == 'Speedy Express';\n"
   ]
  },
  {
   "cell_type": "markdown",
   "id": "3c66746e",
   "metadata": {},
   "source": [
    "Answer: 54"
   ]
  },
  {
   "cell_type": "markdown",
   "id": "a2ab2943",
   "metadata": {},
   "source": [
    "##### b. What is the last name of the employee with the most orders?"
   ]
  },
  {
   "cell_type": "markdown",
   "id": "8e7faff6",
   "metadata": {},
   "source": [
    "Query: SELECT Employees.LastName FROM Orders INNER JOIN Employees ON Orders.EmployeeID=Employees.EmployeeID GROUP BY (Orders.EmployeeID) ORDER BY COUNT(Orders.EmployeeID) DESC LIMIT 1;"
   ]
  },
  {
   "cell_type": "markdown",
   "id": "f9c2fa7c",
   "metadata": {},
   "source": [
    "Answer: Peacock"
   ]
  },
  {
   "cell_type": "markdown",
   "id": "fff9d602",
   "metadata": {},
   "source": [
    "##### c. What product was ordered the most by customers in Germany?"
   ]
  },
  {
   "cell_type": "markdown",
   "id": "474b0555",
   "metadata": {},
   "source": [
    "Query: SELECT Products.ProductName FROM (((Orders INNER JOIN Customers ON Orders.CustomerID=Customers.CustomerID) INNER JOIN OrderDetails ON Orders.OrderID=OrderDetails.OrderID) INNER JOIN Products ON OrderDetails.ProductID=Products.ProductID)Where Customers.Country == 'Germany' GROUP BY OrderDetails.ProductID ORDER BY Count(Orders.OrderID) DESC LIMIT 1;"
   ]
  },
  {
   "cell_type": "markdown",
   "id": "b603a8d6",
   "metadata": {},
   "source": [
    "Answer: Gorgonzola Telino"
   ]
  }
 ],
 "metadata": {
  "kernelspec": {
   "display_name": "Python 3 (ipykernel)",
   "language": "python",
   "name": "python3"
  },
  "language_info": {
   "codemirror_mode": {
    "name": "ipython",
    "version": 3
   },
   "file_extension": ".py",
   "mimetype": "text/x-python",
   "name": "python",
   "nbconvert_exporter": "python",
   "pygments_lexer": "ipython3",
   "version": "3.9.7"
  }
 },
 "nbformat": 4,
 "nbformat_minor": 5
}
